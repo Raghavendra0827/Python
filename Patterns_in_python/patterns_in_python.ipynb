{
 "cells": [
  {
   "cell_type": "markdown",
   "id": "1b2b0e58",
   "metadata": {},
   "source": [
    "# STAR PATTERN USING PYTHON"
   ]
  },
  {
   "cell_type": "code",
   "execution_count": 2,
   "id": "7449b582",
   "metadata": {},
   "outputs": [
    {
     "name": "stdout",
     "output_type": "stream",
     "text": [
      "Enter the number of row  :8\n",
      "*\n",
      "**\n",
      "***\n",
      "****\n",
      "*****\n",
      "******\n",
      "*******\n",
      "********\n"
     ]
    }
   ],
   "source": [
    "def row(n):\n",
    "    for i in range(0,n):\n",
    "        print(\"*\"*(i+1))\n",
    "n=int(input(\"Enter the number of row  :\"))\n",
    "row(n)"
   ]
  },
  {
   "cell_type": "code",
   "execution_count": 5,
   "id": "c071ac30",
   "metadata": {},
   "outputs": [
    {
     "name": "stdout",
     "output_type": "stream",
     "text": [
      "Enter the number of row  :8\n",
      "       *\n",
      "      **\n",
      "     ***\n",
      "    ****\n",
      "   *****\n",
      "  ******\n",
      " *******\n",
      "********\n"
     ]
    }
   ],
   "source": [
    "def row(n):\n",
    "    for i in range(0,n):\n",
    "        print(\" \"*(n-i-1),end=\"\")\n",
    "        print(\"*\"*(i+1))\n",
    "n=int(input(\"Enter the number of row  :\"))\n",
    "row(n)"
   ]
  },
  {
   "cell_type": "code",
   "execution_count": 6,
   "id": "99a75643",
   "metadata": {},
   "outputs": [
    {
     "name": "stdout",
     "output_type": "stream",
     "text": [
      "Enter the number of row  :8\n",
      "********\n",
      "*******\n",
      "******\n",
      "*****\n",
      "****\n",
      "***\n",
      "**\n",
      "*\n"
     ]
    }
   ],
   "source": [
    "def row(n):\n",
    "    for i in range(0,n):\n",
    "        print(\"*\"*(n-i))\n",
    "n=int(input(\"Enter the number of row  :\"))\n",
    "row(n)"
   ]
  },
  {
   "cell_type": "code",
   "execution_count": 7,
   "id": "c290b114",
   "metadata": {},
   "outputs": [
    {
     "name": "stdout",
     "output_type": "stream",
     "text": [
      "Enter the number of row  :8\n",
      "********\n",
      " *******\n",
      "  ******\n",
      "   *****\n",
      "    ****\n",
      "     ***\n",
      "      **\n",
      "       *\n"
     ]
    }
   ],
   "source": [
    "def row(n):\n",
    "    for i in range(0,n):\n",
    "        print(\" \"*(i),end=\"\")\n",
    "        print(\"*\"*(n-i))\n",
    "n=int(input(\"Enter the number of row  :\"))       \n",
    "row(n)"
   ]
  },
  {
   "cell_type": "code",
   "execution_count": 8,
   "id": "b32841f1",
   "metadata": {},
   "outputs": [
    {
     "name": "stdout",
     "output_type": "stream",
     "text": [
      "Enter the number of row  :8\n",
      "       * \n",
      "      * * \n",
      "     * * * \n",
      "    * * * * \n",
      "   * * * * * \n",
      "  * * * * * * \n",
      " * * * * * * * \n",
      "* * * * * * * * \n"
     ]
    }
   ],
   "source": [
    "# Triangle star patter\n",
    "def row(n):\n",
    "    for i in range(0,n):\n",
    "        print(\" \"*(n-i-1),end=\"\")\n",
    "        print(\"* \"*(i+1))\n",
    "n=int(input(\"Enter the number of row  :\"))       \n",
    "row(n)"
   ]
  },
  {
   "cell_type": "code",
   "execution_count": 9,
   "id": "8c961936",
   "metadata": {},
   "outputs": [
    {
     "name": "stdout",
     "output_type": "stream",
     "text": [
      "Enter the number of row  :8\n",
      "* * * * * * * * \n",
      " * * * * * * * \n",
      "  * * * * * * \n",
      "   * * * * * \n",
      "    * * * * \n",
      "     * * * \n",
      "      * * \n",
      "       * \n"
     ]
    }
   ],
   "source": [
    "# downward triangle star pattern\n",
    "def row(n):\n",
    "    for i in range(0,n):\n",
    "        print(\" \"*(i),end=\"\")\n",
    "        print(\"* \"*(n-i))\n",
    "        \n",
    "n=int(input(\"Enter the number of row  :\"))      \n",
    "row(n)"
   ]
  },
  {
   "cell_type": "code",
   "execution_count": 12,
   "id": "f765bf13",
   "metadata": {},
   "outputs": [
    {
     "name": "stdout",
     "output_type": "stream",
     "text": [
      "Enter the number of row  :8\n",
      "       * \n",
      "      * * \n",
      "     * * * \n",
      "    * * * * \n",
      "   * * * * * \n",
      "  * * * * * * \n",
      " * * * * * * * \n",
      "* * * * * * * * \n",
      " * * * * * * * \n",
      "  * * * * * * \n",
      "   * * * * * \n",
      "    * * * * \n",
      "     * * * \n",
      "      * * \n",
      "       * \n",
      "        \n"
     ]
    }
   ],
   "source": [
    "def daimond(n):\n",
    "    for i in range(0,n):\n",
    "        print(\" \"*(n-i-1),end=\"\")\n",
    "        print(\"* \"*(i+1))\n",
    "    for i in range(0,n):\n",
    "        print(\" \"*(i+1),end=\"\")\n",
    "        print(\"* \"*(n-i-1))\n",
    "n=int(input(\"Enter the number of row  :\"))     \n",
    "daimond(n)\n"
   ]
  },
  {
   "cell_type": "code",
   "execution_count": 13,
   "id": "b2aa904c",
   "metadata": {},
   "outputs": [
    {
     "name": "stdout",
     "output_type": "stream",
     "text": [
      "Enter the number of row  :8\n",
      "********\n",
      "*      *\n",
      "*      *\n",
      "*      *\n",
      "*      *\n",
      "*      *\n",
      "*      *\n",
      "********\n"
     ]
    }
   ],
   "source": [
    "def border(n):\n",
    "    for i in range(0,n):\n",
    "        if(i==0 or i==(n-1)):\n",
    "            print(\"*\"*n)\n",
    "        else:\n",
    "            print(\"*\"+(\" \"*(n-2))+\"*\")\n",
    "n=int(input(\"Enter the number of row  :\"))       \n",
    "border(n)"
   ]
  },
  {
   "cell_type": "code",
   "execution_count": 14,
   "id": "9a06f31c",
   "metadata": {},
   "outputs": [
    {
     "name": "stdout",
     "output_type": "stream",
     "text": [
      "********************\n",
      "*********  *********\n",
      "********    ********\n",
      "*******      *******\n",
      "******        ******\n",
      "*****          *****\n",
      "****            ****\n",
      "***              ***\n",
      "**                **\n",
      "*                  *\n"
     ]
    }
   ],
   "source": [
    "n=10\n",
    "for i in range(0,n):\n",
    "    if i==0:\n",
    "        print(\"*\"*n*2)\n",
    "    else:\n",
    "        print(\"*\"*(n-i)+\"  \"*i+\"*\"*(n-i))"
   ]
  },
  {
   "cell_type": "code",
   "execution_count": 15,
   "id": "b8d09f23",
   "metadata": {},
   "outputs": [
    {
     "name": "stdout",
     "output_type": "stream",
     "text": [
      "********************\n",
      "*********  *********\n",
      "********    ********\n",
      "*******      *******\n",
      "******        ******\n",
      "*****          *****\n",
      "****            ****\n",
      "***              ***\n",
      "**                **\n",
      "*                  *\n",
      "*                  *\n",
      "**                **\n",
      "***              ***\n",
      "****            ****\n",
      "*****          *****\n",
      "******        ******\n",
      "*******      *******\n",
      "********    ********\n",
      "*********  *********\n",
      "********************\n"
     ]
    }
   ],
   "source": [
    "n=10\n",
    "for i in range(0,n):\n",
    "        print(\"*\"*(n-i)+\"  \"*i+\"*\"*(n-i))\n",
    "for i in range(0,n):\n",
    "        print(\"*\"*(i+1)+\"  \"*(n-i-1)+\"*\"*(i+1))"
   ]
  },
  {
   "cell_type": "code",
   "execution_count": 22,
   "id": "1df84dbb",
   "metadata": {},
   "outputs": [
    {
     "name": "stdout",
     "output_type": "stream",
     "text": [
      " *\n",
      "  **\n",
      "   ***\n",
      "    ****\n",
      "     *****\n",
      "      ******\n",
      "       *******\n",
      "        ********\n",
      "       *******\n",
      "      ******\n",
      "     *****\n",
      "    ****\n",
      "   ***\n",
      "  **\n",
      " *\n",
      "\n"
     ]
    }
   ],
   "source": [
    "def star(n):\n",
    "    for i in range(0,n):\n",
    "        print(\" \"*(i+1)+\"*\"*(i+1))\n",
    "        \n",
    "    for i in range(0,n):\n",
    "        print(\" \"*(n-i-1)+\"*\"*(n-i-1))\n",
    "        \n",
    "star(8)"
   ]
  },
  {
   "cell_type": "code",
   "execution_count": 18,
   "id": "1528e92a",
   "metadata": {},
   "outputs": [
    {
     "name": "stdout",
     "output_type": "stream",
     "text": [
      "         *\n",
      "        * *\n",
      "       *   *\n",
      "      *     *\n",
      "     *       *\n",
      "    *         *\n",
      "   *           *\n",
      "  *             *\n",
      " *               *\n",
      "* * * * * * * * * * \n"
     ]
    }
   ],
   "source": [
    "def star(n):\n",
    "    print(\" \"*(n-1)+\"*\")\n",
    "    for i in range(0,n-2):\n",
    "            print( \" \"*(n-i-2)+\"*\",\"  \"*(i)+\"*\")\n",
    "    print(\"* \"*(n))\n",
    "star(10)"
   ]
  },
  {
   "cell_type": "code",
   "execution_count": 23,
   "id": "c8946430",
   "metadata": {},
   "outputs": [
    {
     "name": "stdout",
     "output_type": "stream",
     "text": [
      "* * * * * * * * * * * * * * * * * * * \n",
      " * * * * * * * * * * * * * * * * * * \n",
      "  * * * * * * * *   * * * * * * * * \n",
      "   * * * * * * *     * * * * * * * \n",
      "    * * * * * *       * * * * * * \n",
      "     * * * * *         * * * * * \n",
      "      * * * *           * * * * \n",
      "       * * *             * * * \n",
      "        * *               * * \n",
      "         * * * * * * * * * * \n",
      "          * * * * * * * * * \n",
      "           * * * * * * * * \n",
      "            * * * * * * * \n",
      "             * * * * * * \n",
      "              * * * * * \n",
      "               * * * * \n",
      "                * * * \n",
      "                 * * \n",
      "                  * \n"
     ]
    }
   ],
   "source": [
    "def star(n):\n",
    "    print(\"* \"*((n*2)-1))                                 #first line stars\n",
    "    for i in range(0,n-2):\n",
    "            print(\" \"*((i+1)) + \"* \"*((n-i-2)),end=\"\")    #first two triangles (\" \",*)\n",
    "            print( \"*\",\"  \"*(i)+\"* \",end=\"\")              #border triangle\n",
    "            print(\"* \"*(n-i-2))                           #2nd down star triangle\n",
    "    print(\" \"*(n-1)+\"* \"*n)                               #mid line stars\n",
    "    for i in range(0,n-1):\n",
    "            print(\" \"*((n))+ \" \"*((i))+\"* \"*((n-i-1)))    #(\" \",\" \")are the spaces and * is the lower down star triangle\n",
    "        \n",
    "star(10)"
   ]
  }
 ],
 "metadata": {
  "kernelspec": {
   "display_name": "Python 3 (ipykernel)",
   "language": "python",
   "name": "python3"
  },
  "language_info": {
   "codemirror_mode": {
    "name": "ipython",
    "version": 3
   },
   "file_extension": ".py",
   "mimetype": "text/x-python",
   "name": "python",
   "nbconvert_exporter": "python",
   "pygments_lexer": "ipython3",
   "version": "3.11.3"
  }
 },
 "nbformat": 4,
 "nbformat_minor": 5
}
